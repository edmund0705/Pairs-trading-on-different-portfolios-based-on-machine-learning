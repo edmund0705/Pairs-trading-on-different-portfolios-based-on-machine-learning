{
 "cells": [
  {
   "cell_type": "markdown",
   "metadata": {},
   "source": [
    "# Import packages"
   ]
  },
  {
   "cell_type": "code",
   "execution_count": null,
   "metadata": {},
   "outputs": [],
   "source": [
    "import finlab\n",
    "# Read the API key from the text file\n",
    "with open('credential.txt', 'r') as file:\n",
    "    api_key = file.readline().strip()\n",
    "\n",
    "# Use the API key to log in\n",
    "finlab.login(api_key)"
   ]
  },
  {
   "cell_type": "code",
   "execution_count": 1,
   "metadata": {},
   "outputs": [
    {
     "name": "stdout",
     "output_type": "stream",
     "text": [
      "輸入成功!\n"
     ]
    }
   ],
   "source": [
    "from finlab import data\n",
    "import pandas as pd\n",
    "import warnings\n",
    "import requests"
   ]
  },
  {
   "cell_type": "code",
   "execution_count": 2,
   "metadata": {},
   "outputs": [],
   "source": [
    "import statsmodels.api as sm"
   ]
  },
  {
   "cell_type": "code",
   "execution_count": 3,
   "metadata": {},
   "outputs": [],
   "source": [
    "import itertools"
   ]
  },
  {
   "cell_type": "markdown",
   "metadata": {},
   "source": [
    "### Machine Learning"
   ]
  },
  {
   "cell_type": "code",
   "execution_count": 4,
   "metadata": {},
   "outputs": [],
   "source": [
    "import numpy as np\n",
    "from sklearn.preprocessing import MinMaxScaler"
   ]
  },
  {
   "cell_type": "code",
   "execution_count": 5,
   "metadata": {},
   "outputs": [
    {
     "name": "stderr",
     "output_type": "stream",
     "text": [
      "2024-01-18 19:25:59.604218: I tensorflow/core/platform/cpu_feature_guard.cc:182] This TensorFlow binary is optimized to use available CPU instructions in performance-critical operations.\n",
      "To enable the following instructions: AVX2 FMA, in other operations, rebuild TensorFlow with the appropriate compiler flags.\n"
     ]
    },
    {
     "name": "stdout",
     "output_type": "stream",
     "text": [
      "2.15.0\n",
      "2.15.0\n"
     ]
    }
   ],
   "source": [
    "import tensorflow as tf\n",
    "import keras\n",
    "\n",
    "print(tf.__version__)  # 查看 TensorFlow 版本\n",
    "print(keras.__version__)  # 查看 Keras 版本"
   ]
  },
  {
   "cell_type": "code",
   "execution_count": 6,
   "metadata": {},
   "outputs": [],
   "source": [
    "from keras.models import Sequential\n",
    "from keras.layers import LSTM, Dense, Dropout\n",
    "from sklearn.model_selection import train_test_split"
   ]
  },
  {
   "cell_type": "code",
   "execution_count": 7,
   "metadata": {},
   "outputs": [],
   "source": [
    "from scikeras.wrappers import KerasRegressor, KerasClassifier\n",
    "from sklearn.model_selection import GridSearchCV"
   ]
  },
  {
   "cell_type": "code",
   "execution_count": 8,
   "metadata": {},
   "outputs": [],
   "source": [
    "from sklearn.metrics import mean_squared_error"
   ]
  },
  {
   "cell_type": "markdown",
   "metadata": {},
   "source": [
    "### 圖像化"
   ]
  },
  {
   "cell_type": "code",
   "execution_count": 9,
   "metadata": {},
   "outputs": [],
   "source": [
    "import matplotlib.pyplot as plt"
   ]
  },
  {
   "cell_type": "markdown",
   "metadata": {},
   "source": [
    "# Functions"
   ]
  },
  {
   "cell_type": "markdown",
   "metadata": {},
   "source": [
    "### Beta迴圈"
   ]
  },
  {
   "cell_type": "code",
   "execution_count": 10,
   "metadata": {},
   "outputs": [],
   "source": [
    "def get_data_for_period(dataframe, start_year, end_year):\n",
    "    df_copy = dataframe.copy()\n",
    "    if df_copy.columns[1] != '發行量加權股價報酬指數':\n",
    "        df_copy['收盤價(元)'] = df_copy['收盤價(元)'].pct_change()\n",
    "    else:\n",
    "        df_copy['發行量加權股價報酬指數'] = df_copy['發行量加權股價報酬指數'].pct_change()\n",
    "\n",
    "    # 創建時間段\n",
    "    start_date = f\"{start_year}-01-01\"\n",
    "    end_date = f\"{end_year}-12-31\"\n",
    "\n",
    "    # 確保日期列是日期的時間格式\n",
    "    df_copy['Date'] = pd.to_datetime(df_copy['Date'])\n",
    "\n",
    "    # 篩選出指定時間段內的數據\n",
    "    filtered_data = df_copy[(df_copy['Date'] >= start_date) & (df_copy['Date'] <= end_date)]\n",
    "    if df_copy.columns[1] != '發行量加權股價報酬指數':\n",
    "        filtered_data = filtered_data[['Date', '收盤價(元)']]\n",
    "    filtered_data = filtered_data.reset_index(drop=True)\n",
    "\n",
    "    return filtered_data"
   ]
  },
  {
   "cell_type": "markdown",
   "metadata": {},
   "source": [
    "### 依據時間切資料"
   ]
  },
  {
   "cell_type": "code",
   "execution_count": 11,
   "metadata": {},
   "outputs": [],
   "source": [
    "def is_data_sufficient(dataframe, min_data_count):\n",
    "    # return: 如果数据满足要求返回 True，否则返回 False。\n",
    "    # 计算数据笔数\n",
    "    data_count = len(dataframe)\n",
    "\n",
    "    # 判断是否满足最小数据笔数要求\n",
    "    return data_count >= min_data_count"
   ]
  },
  {
   "cell_type": "markdown",
   "metadata": {},
   "source": [
    "### 篩選並踢除Beta值異常的股票。"
   ]
  },
  {
   "cell_type": "code",
   "execution_count": 12,
   "metadata": {},
   "outputs": [],
   "source": [
    "def filter_extreme_betas(betas, threshold_factor=2):\n",
    "    \"\"\"\n",
    "    :param betas: 一個包含股票代號和其Beta值的列表，格式為[(stock_code, beta), ...]。\n",
    "    :param threshold_factor: 用於確定篩選閾值的倍數因子，預設為2。\n",
    "    :return: 剔除異常Beta值的股票後的清單。\n",
    "    \"\"\"\n",
    "    # 计算平均Beta值和标准差\n",
    "    beta_values = [beta[1] for beta in betas]\n",
    "    average_beta = sum(beta_values) / len(beta_values)\n",
    "    std_dev_beta = (sum((x - average_beta) ** 2 for x in beta_values) / len(beta_values)) ** 0.5\n",
    "\n",
    "    # 设定筛选阈值\n",
    "    upper_threshold = average_beta + threshold_factor * std_dev_beta\n",
    "    lower_threshold = average_beta - threshold_factor * std_dev_beta\n",
    "\n",
    "    # 筛选并剔除异常Beta值的股票\n",
    "    filtered_betas = [beta for beta in betas if lower_threshold <= beta[1] <= upper_threshold]\n",
    "\n",
    "    return filtered_betas"
   ]
  },
  {
   "cell_type": "markdown",
   "metadata": {},
   "source": [
    "### Cointegration test"
   ]
  },
  {
   "cell_type": "code",
   "execution_count": 13,
   "metadata": {},
   "outputs": [],
   "source": [
    "def get_price_for_period(dataframe, start_year, end_year):\n",
    "    df_copy = dataframe.copy()\n",
    "\n",
    "    # 創建時間段\n",
    "    start_date = f\"{start_year}-01-01\"\n",
    "    end_date = f\"{end_year}-12-31\"\n",
    "\n",
    "    # 確保日期列是日期的時間格式\n",
    "    df_copy['Date'] = pd.to_datetime(df_copy['Date'])\n",
    "\n",
    "    # 篩選出指定時間段內的數據\n",
    "    filtered_data = df_copy[(df_copy['Date'] >= start_date) & (df_copy['Date'] <= end_date)]\n",
    "    filtered_data = filtered_data['收盤價(元)']\n",
    "    filtered_data = filtered_data.reset_index(drop=True)\n",
    "\n",
    "    return filtered_data"
   ]
  },
  {
   "cell_type": "markdown",
   "metadata": {},
   "source": [
    "### 定義協整測試函數"
   ]
  },
  {
   "cell_type": "code",
   "execution_count": 14,
   "metadata": {},
   "outputs": [],
   "source": [
    "# 定义协整测试函数\n",
    "def cointegration_test(stock1, stock2):\n",
    "    # 确保两个DataFrame在日期上对齐\n",
    "    stock1, stock2 = stock1.align(stock2, join='inner')\n",
    "\n",
    "    # 提取价格数据\n",
    "    # 假设每个DataFrame只包含一个列，代表股票价格\n",
    "    # stock1_prices = stock1.iloc[:, 0]\n",
    "    # stock2_prices = stock2.iloc[:, 0]\n",
    "\n",
    "    # 进行线性回归\n",
    "    model = sm.OLS(stock1, sm.add_constant(stock2)).fit()\n",
    "    residuals = model.resid\n",
    "\n",
    "    # 进行ADF检验\n",
    "    adf_test = sm.tsa.adfuller(residuals)\n",
    "    p_value = adf_test[1]\n",
    "\n",
    "    return p_value"
   ]
  },
  {
   "cell_type": "markdown",
   "metadata": {},
   "source": [
    "### Calculate spread"
   ]
  },
  {
   "cell_type": "code",
   "execution_count": 15,
   "metadata": {},
   "outputs": [],
   "source": [
    "def calculate_spread(dataframe, stock_pair, start_year, end_year):\n",
    "    # 提取两只股票的数据\n",
    "    df_stock_1 = dataframe[dataframe['證券代碼'] == stock_pair[0]]\n",
    "    df_stock_2 = dataframe[dataframe['證券代碼'] == stock_pair[1]]\n",
    "\n",
    "    # 获取两只股票在指定时间段内的价格\n",
    "    stock_1_prices = get_price_for_period(df_stock_1, start_year, end_year)\n",
    "    stock_2_prices = get_price_for_period(df_stock_2, start_year, end_year)\n",
    "\n",
    "    # print(stock_1_prices)\n",
    "    # print(stock_2_prices)\n",
    "\n",
    "    # 计算价差\n",
    "    spread = stock_1_prices - stock_2_prices\n",
    "\n",
    "    spread.dropna(inplace = True)\n",
    "\n",
    "    return spread"
   ]
  },
  {
   "cell_type": "markdown",
   "metadata": {},
   "source": [
    "### Calculate the profit"
   ]
  },
  {
   "cell_type": "code",
   "execution_count": 16,
   "metadata": {},
   "outputs": [],
   "source": [
    "# if spread > 0, min_p_value_pair[0] > min_p_value_pair[1]\n",
    "def get_overvalued_and_undervalued_stocks(dataframe, spread, stock_pair, year):\n",
    "    # Calculate the spread\n",
    "    spread = calculate_spread(dataframe, stock_pair, year, year)\n",
    "\n",
    "    # Calculate the average spread over the year\n",
    "    average_spread = spread.mean()\n",
    "\n",
    "    if average_spread > 0:\n",
    "        # stock_pair[0] is overvalued relative to stock_pair[1]\n",
    "        overvalued_code = stock_pair[0]\n",
    "        undervalued_code = stock_pair[1]\n",
    "    else:\n",
    "        # stock_pair[1] is overvalued relative to stock_pair[0]\n",
    "        overvalued_code = stock_pair[1]\n",
    "        undervalued_code = stock_pair[0]\n",
    "\n",
    "    # Extract the prices for the overvalued and undervalued stocks\n",
    "    df_overvalued = dataframe[dataframe['證券代碼'] == overvalued_code]\n",
    "    df_undervalued = dataframe[dataframe['證券代碼'] == undervalued_code]\n",
    "    prices_overvalued = get_price_for_period(df_overvalued, year, year)\n",
    "    prices_undervalued = get_price_for_period(df_undervalued, year, year)\n",
    "\n",
    "    return prices_overvalued, prices_undervalued, overvalued_code, undervalued_code"
   ]
  },
  {
   "cell_type": "markdown",
   "metadata": {},
   "source": [
    "# 主程式碼"
   ]
  },
  {
   "cell_type": "markdown",
   "metadata": {},
   "source": [
    "## 定義年份"
   ]
  },
  {
   "cell_type": "code",
   "execution_count": 17,
   "metadata": {},
   "outputs": [],
   "source": [
    "const_year_start = 2013\n",
    "const_year_test = const_year_start + 3"
   ]
  },
  {
   "cell_type": "markdown",
   "metadata": {},
   "source": [
    "## 抓資料"
   ]
  },
  {
   "cell_type": "code",
   "execution_count": 18,
   "metadata": {},
   "outputs": [
    {
     "name": "stderr",
     "output_type": "stream",
     "text": [
      "Your version is 0.5.13, please install a newer version.\n",
      "Use \"pip install finlab==1.0.0\" to update the latest version.\n"
     ]
    }
   ],
   "source": [
    "close=data.get(\"price:收盤價\")\n",
    "\n",
    "# 取得 OHLC 直式格式\n",
    "\n",
    "price = close.T.stack().reset_index()\n",
    "price.columns = [\"證券代碼\", \"Date\", \"收盤價(元)\"]\n",
    "open = data.get(\"price:開盤價\").T.stack().reset_index()\n",
    "open.columns = [\"證券代碼\", \"Date\", \"開盤價(元)\"]\n",
    "price = price.merge(open, on = [\"證券代碼\", \"Date\"])\n",
    "high = data.get(\"price:最高價\").T.stack().reset_index()\n",
    "high.columns = [\"證券代碼\", \"Date\", \"最高價(元)\"]\n",
    "price = price.merge(high, on = [\"證券代碼\", \"Date\"])\n",
    "low = data.get(\"price:最低價\").T.stack().reset_index()\n",
    "low.columns = [\"證券代碼\", \"Date\", \"最低價(元)\"]\n",
    "price = price.merge(low, on = [\"證券代碼\", \"Date\"])"
   ]
  },
  {
   "cell_type": "code",
   "execution_count": 19,
   "metadata": {},
   "outputs": [],
   "source": [
    "# 篩選出 4 位數字\n",
    "price = price[price[\"證券代碼\"].apply(lambda x: len(str(x)) == 4 and not str(x).startswith(\"00\"))]\n",
    "df = pd.DataFrame(price)\n",
    "# df"
   ]
  },
  {
   "cell_type": "code",
   "execution_count": 20,
   "metadata": {},
   "outputs": [],
   "source": [
    "TAIEX = data.get('benchmark_return:發行量加權股價報酬指數')\n",
    "\n",
    "taiex = TAIEX.stack().reset_index()\n",
    "taiex = taiex.drop(columns=['symbol'])\n",
    "taiex.columns = [\"Date\", \"發行量加權股價報酬指數\"]\n",
    "taiex = pd.DataFrame(taiex)\n",
    "# taiex"
   ]
  },
  {
   "cell_type": "markdown",
   "metadata": {},
   "source": [
    "### 把股票代碼存入list裡"
   ]
  },
  {
   "cell_type": "code",
   "execution_count": 21,
   "metadata": {},
   "outputs": [
    {
     "name": "stdout",
     "output_type": "stream",
     "text": [
      "不同的股票代碼总数: 2043\n"
     ]
    }
   ],
   "source": [
    "stock_code_list = []\n",
    "\n",
    "# 假设您的DataFrame名为df\n",
    "# df = ...\n",
    "\n",
    "# 创建一个空集合来存储股票代碼\n",
    "stock_codes_set = set()\n",
    "\n",
    "# 遍历DataFrame中的每一行\n",
    "for code in df['證券代碼']:\n",
    "    stock_codes_set.add(code)\n",
    "\n",
    "# 将集合转换为列表\n",
    "stock_code_list = list(sorted(stock_codes_set))\n",
    "\n",
    "# 打印股票代碼列表和总数\n",
    "# print(\"股票代碼列表:\", stock_code_list)\n",
    "print(\"不同的股票代碼总数:\", len(stock_code_list))"
   ]
  },
  {
   "cell_type": "markdown",
   "metadata": {},
   "source": [
    "## 跑每三年的Beta迴圈"
   ]
  },
  {
   "cell_type": "code",
   "execution_count": 22,
   "metadata": {},
   "outputs": [],
   "source": [
    "# # 使用示例\n",
    "# # 假设taiex是您已有的DataFrame\n",
    "# for year in range(const_year_start, 2023):\n",
    "#     taiex_for_period = get_data_for_period(taiex, year, year + 2)\n",
    "#     # print(taiex_for_period.head())\n",
    "\n",
    "#     betas = {}\n",
    "#     for stock_code in stock_code_list:\n",
    "#         df_stock = df[df['證券代碼'] == stock_code]\n",
    "#         stock_for_period = get_data_for_period(df_stock, year, year + 2)\n",
    "#         if is_data_sufficient(stock_for_period , 700) == False:\n",
    "#             continue\n",
    "        \n",
    "#         # print(stock_code)\n",
    "#         # print('---------------')\n",
    "#         # df_beta_calculate = pd.concat([stock_for_period, taiex_for_period], axis=1, join='inner')\n",
    "#         # print(df_beta_calculate.head())\n",
    "#         # df_beta_calculate.columns = ['stock_return', 'market_return']\n",
    "\n",
    "#         df_beta_calculate = pd.DataFrame()\n",
    "#         df_beta_calculate = pd.merge(stock_for_period, taiex_for_period, on='Date')\n",
    "\n",
    "#         # X = df_beta_calculate['發行量加權股價報酬指數']\n",
    "#         # y = df_beta_calculate['收盤價(元)']\n",
    "#         # X = sm.add_constant(X)  # 添加常数项\n",
    "#         # model = sm.OLS(y, X).fit()\n",
    "\n",
    "#         covariance = df_beta_calculate['收盤價(元)'].cov(df_beta_calculate['發行量加權股價報酬指數'])\n",
    "#         variance = df_beta_calculate['發行量加權股價報酬指數'].var()\n",
    "\n",
    "#         # Beta系数是市场回报率的系数\n",
    "#         # beta = model.params['發行量加權股價報酬指數']\n",
    "#         betas[stock_code] = covariance / variance\n",
    "\n",
    "#     #print(betas)\n",
    "#     print(year)\n",
    "#     break"
   ]
  },
  {
   "cell_type": "code",
   "execution_count": 23,
   "metadata": {},
   "outputs": [],
   "source": [
    "# # Convert the dictionary to a DataFrame\n",
    "# betas_df = pd.DataFrame(list(betas.items()), columns=['股票代碼', 'beta value'])\n",
    "\n",
    "# # Save the DataFrame to an Excel file\n",
    "# betas_df.to_excel('betas_2016.xlsx', index=False)"
   ]
  },
  {
   "cell_type": "code",
   "execution_count": 24,
   "metadata": {},
   "outputs": [],
   "source": [
    "# Load the data from the Excel file\n",
    "betas_from_excel = pd.read_excel('betas_2016.xlsx')\n",
    "\n",
    "# Convert the DataFrame to a dictionary with '股票代碼' as keys and 'beta value' as values\n",
    "# Convert stock codes to string to ensure the keys of the dictionary are strings\n",
    "betas_dict = pd.Series(betas_from_excel['beta value'].values, \n",
    "                       index=betas_from_excel['股票代碼'].astype(str)).to_dict()"
   ]
  },
  {
   "cell_type": "markdown",
   "metadata": {},
   "source": [
    "## 把股票分成aggressive pairs跟defensive pairs"
   ]
  },
  {
   "cell_type": "code",
   "execution_count": 25,
   "metadata": {},
   "outputs": [],
   "source": [
    "aggressive_stocks = {stock: beta for stock, beta in betas_dict.items() if beta > 1}\n",
    "top_10_aggressive_stocks = sorted(aggressive_stocks.items(), key=lambda x: x[1], reverse=True)[:15]\n",
    "top_10_aggressive_stocks = filter_extreme_betas(top_10_aggressive_stocks)\n",
    "# top_10_aggressive_stocks"
   ]
  },
  {
   "cell_type": "code",
   "execution_count": 26,
   "metadata": {},
   "outputs": [],
   "source": [
    "defensive_stocks = {stock: beta for stock, beta in betas_dict.items() if beta < 1}\n",
    "top_10_defensive_stocks = sorted(defensive_stocks.items(), key=lambda x: x[1], reverse=False)[:15]\n",
    "top_10_defensive_stocks = filter_extreme_betas(top_10_defensive_stocks)\n",
    "# top_10_defensive_stocks"
   ]
  },
  {
   "cell_type": "markdown",
   "metadata": {},
   "source": [
    "## Cointegration test"
   ]
  },
  {
   "cell_type": "code",
   "execution_count": 27,
   "metadata": {},
   "outputs": [],
   "source": [
    "# 假设 top_10_aggressive_stocks 是包含股票代码和Beta值的列表\n",
    "stock_codes_a = [stock[0] for stock in top_10_aggressive_stocks]\n",
    "\n",
    "# 生成所有可能的股票对\n",
    "stock_pairs_a = list(itertools.combinations(stock_codes_a, 2))"
   ]
  },
  {
   "cell_type": "code",
   "execution_count": 28,
   "metadata": {},
   "outputs": [
    {
     "name": "stdout",
     "output_type": "stream",
     "text": [
      "股票对 ('2207', '5351') 有最小的 P 值: (0.004396097388970065, 0.00035622575522139865)\n"
     ]
    }
   ],
   "source": [
    "# 對每對股票進行雙向協整測試並記錄 P 值\n",
    "p_values_dict = {}\n",
    "\n",
    "for pair in stock_pairs_a:\n",
    "    stock1, stock2 = pair\n",
    "    df_stock1 = df[df['證券代碼'] == stock1]\n",
    "    df_stock2 = df[df['證券代碼'] == stock2]\n",
    "\n",
    "    # 取得股票價格數據\n",
    "    stock1_prices = get_price_for_period(df_stock1, const_year_start, const_year_start + 2)\n",
    "    stock2_prices = get_price_for_period(df_stock2, const_year_start, const_year_start + 2)\n",
    "\n",
    "    # 雙向協整測試\n",
    "    p_value_1 = cointegration_test(stock1_prices, stock2_prices)\n",
    "    p_value_2 = cointegration_test(stock2_prices, stock1_prices)\n",
    "\n",
    "    # 如果兩個 P 值都小於 0.05，則記錄這對股票和它們的 P 值\n",
    "    if p_value_1 < 0.05 and p_value_2 < 0.05:\n",
    "        p_values_dict[(stock1, stock2)] = (p_value_1, p_value_2)\n",
    "\n",
    "# 找出具有最小最大 P 值的股票对\n",
    "min_p_value_pair = min(p_values_dict, key=lambda x: max(p_values_dict[x]))\n",
    "min_p_values = p_values_dict[min_p_value_pair]\n",
    "\n",
    "print(f\"股票对 {min_p_value_pair} 有最小的 P 值: {min_p_values}\")"
   ]
  },
  {
   "cell_type": "markdown",
   "metadata": {},
   "source": [
    "## LSTM預測兩隻股票的spread"
   ]
  },
  {
   "cell_type": "code",
   "execution_count": 29,
   "metadata": {},
   "outputs": [],
   "source": [
    "spread_train = calculate_spread(df , min_p_value_pair , const_year_start , const_year_start + 2)\n",
    "# spread_train"
   ]
  },
  {
   "cell_type": "code",
   "execution_count": 30,
   "metadata": {},
   "outputs": [],
   "source": [
    "# 规范化数据\n",
    "scaler = MinMaxScaler(feature_range=(0, 1))\n",
    "spread_train_scaled = scaler.fit_transform(spread_train.values.reshape(-1, 1))"
   ]
  },
  {
   "cell_type": "code",
   "execution_count": 31,
   "metadata": {},
   "outputs": [],
   "source": [
    "X_train = []   #預測點的前 60 天的資料\n",
    "y_train = []   #預測點\n",
    "for i in range(60, len(spread_train)):  # 727 是訓練集總數，60代表用過去60天的資料訓練\n",
    "    X_train.append(spread_train_scaled[i-60:i, 0])\n",
    "    y_train.append(spread_train_scaled[i, 0])\n",
    "X_train, y_train = np.array(X_train), np.array(y_train)  # 轉成numpy array的格式，以利輸入 RNN"
   ]
  },
  {
   "cell_type": "code",
   "execution_count": 32,
   "metadata": {},
   "outputs": [],
   "source": [
    "# Function to create the model, required for KerasClassifier\n",
    "def create_model(units=50, optimizer='adam'):\n",
    "    model = Sequential()\n",
    "    model.add(LSTM(units=units, return_sequences=True, input_shape=(X_train.shape[1], 1)))\n",
    "    model.add(Dropout(0.2))\n",
    "    model.add(LSTM(units=units, return_sequences=True))\n",
    "    model.add(Dropout(0.2))\n",
    "    model.add(LSTM(units=units, return_sequences=True))\n",
    "    model.add(Dropout(0.2))\n",
    "    model.add(LSTM(units=units))\n",
    "    model.add(Dropout(0.2))\n",
    "    model.add(Dense(units=1))\n",
    "    model.compile(optimizer=optimizer, loss='mean_squared_error')\n",
    "    return model"
   ]
  },
  {
   "cell_type": "code",
   "execution_count": 33,
   "metadata": {},
   "outputs": [],
   "source": [
    "# 初始化 LSTM 模型\n",
    "model = Sequential()"
   ]
  },
  {
   "cell_type": "code",
   "execution_count": 34,
   "metadata": {},
   "outputs": [],
   "source": [
    "# Adding the first LSTM layer and some Dropout regularisation\n",
    "model.add(LSTM(units = 50, return_sequences = True, input_shape = (X_train.shape[1], 1)))\n",
    "model.add(Dropout(0.2))\n",
    "\n",
    "# Adding a second LSTM layer and some Dropout regularisation\n",
    "model.add(LSTM(units = 50, return_sequences = True))\n",
    "model.add(Dropout(0.2))\n",
    "\n",
    "# Adding a third LSTM layer and some Dropout regularisation\n",
    "model.add(LSTM(units = 50, return_sequences = True))\n",
    "model.add(Dropout(0.2))\n",
    "\n",
    "# Adding a fourth LSTM layer and some Dropout regularisation\n",
    "model.add(LSTM(units = 50))\n",
    "model.add(Dropout(0.2))"
   ]
  },
  {
   "cell_type": "code",
   "execution_count": 35,
   "metadata": {},
   "outputs": [],
   "source": [
    "# Adding the output layer\n",
    "model.add(Dense(units = 1))"
   ]
  },
  {
   "cell_type": "code",
   "execution_count": 36,
   "metadata": {},
   "outputs": [],
   "source": [
    "# 编译模型\n",
    "model.compile(optimizer='adam', loss='mean_squared_error')"
   ]
  },
  {
   "cell_type": "code",
   "execution_count": 37,
   "metadata": {},
   "outputs": [
    {
     "name": "stdout",
     "output_type": "stream",
     "text": [
      "Epoch 1/150\n",
      "43/43 [==============================] - 17s 127ms/step - loss: 0.0454\n",
      "Epoch 2/150\n",
      "43/43 [==============================] - 5s 118ms/step - loss: 0.0136\n",
      "Epoch 3/150\n",
      "43/43 [==============================] - 5s 111ms/step - loss: 0.0118\n",
      "Epoch 4/150\n",
      "43/43 [==============================] - 7s 153ms/step - loss: 0.0123\n",
      "Epoch 5/150\n",
      "43/43 [==============================] - 6s 140ms/step - loss: 0.0112\n",
      "Epoch 6/150\n",
      "43/43 [==============================] - 5s 110ms/step - loss: 0.0101\n",
      "Epoch 7/150\n",
      "43/43 [==============================] - 6s 148ms/step - loss: 0.0097\n",
      "Epoch 8/150\n",
      "43/43 [==============================] - 6s 134ms/step - loss: 0.0087\n",
      "Epoch 9/150\n",
      "43/43 [==============================] - 4s 103ms/step - loss: 0.0093\n",
      "Epoch 10/150\n",
      "43/43 [==============================] - 4s 104ms/step - loss: 0.0083\n",
      "Epoch 11/150\n",
      "43/43 [==============================] - 4s 98ms/step - loss: 0.0084\n",
      "Epoch 12/150\n",
      "43/43 [==============================] - 4s 99ms/step - loss: 0.0078\n",
      "Epoch 13/150\n",
      "43/43 [==============================] - 4s 95ms/step - loss: 0.0065\n",
      "Epoch 14/150\n",
      "43/43 [==============================] - 4s 99ms/step - loss: 0.0071\n",
      "Epoch 15/150\n",
      "43/43 [==============================] - 4s 96ms/step - loss: 0.0067\n",
      "Epoch 16/150\n",
      "43/43 [==============================] - 4s 99ms/step - loss: 0.0062\n",
      "Epoch 17/150\n",
      "43/43 [==============================] - 4s 101ms/step - loss: 0.0058\n",
      "Epoch 18/150\n",
      "43/43 [==============================] - 4s 97ms/step - loss: 0.0054\n",
      "Epoch 19/150\n",
      "43/43 [==============================] - 4s 103ms/step - loss: 0.0053\n",
      "Epoch 20/150\n",
      "43/43 [==============================] - 4s 100ms/step - loss: 0.0056\n",
      "Epoch 21/150\n",
      "43/43 [==============================] - 4s 102ms/step - loss: 0.0050\n",
      "Epoch 22/150\n",
      "43/43 [==============================] - 4s 97ms/step - loss: 0.0051\n",
      "Epoch 23/150\n",
      "43/43 [==============================] - 4s 105ms/step - loss: 0.0046\n",
      "Epoch 24/150\n",
      "43/43 [==============================] - 4s 96ms/step - loss: 0.0055\n",
      "Epoch 25/150\n",
      "43/43 [==============================] - 4s 97ms/step - loss: 0.0045\n",
      "Epoch 26/150\n",
      "43/43 [==============================] - 4s 97ms/step - loss: 0.0041\n",
      "Epoch 27/150\n",
      "43/43 [==============================] - 4s 96ms/step - loss: 0.0043\n",
      "Epoch 28/150\n",
      "43/43 [==============================] - 4s 98ms/step - loss: 0.0052\n",
      "Epoch 29/150\n",
      "43/43 [==============================] - 4s 100ms/step - loss: 0.0052\n",
      "Epoch 30/150\n",
      "43/43 [==============================] - 4s 101ms/step - loss: 0.0046\n",
      "Epoch 31/150\n",
      "43/43 [==============================] - 7s 159ms/step - loss: 0.0046\n",
      "Epoch 32/150\n",
      "43/43 [==============================] - 6s 144ms/step - loss: 0.0039\n",
      "Epoch 33/150\n",
      "43/43 [==============================] - 8s 196ms/step - loss: 0.0041\n",
      "Epoch 34/150\n",
      "43/43 [==============================] - 8s 183ms/step - loss: 0.0037\n",
      "Epoch 35/150\n",
      "43/43 [==============================] - 7s 159ms/step - loss: 0.0043\n",
      "Epoch 36/150\n",
      "43/43 [==============================] - 6s 146ms/step - loss: 0.0040\n",
      "Epoch 37/150\n",
      "43/43 [==============================] - 6s 145ms/step - loss: 0.0038\n",
      "Epoch 38/150\n",
      "43/43 [==============================] - 6s 142ms/step - loss: 0.0033\n",
      "Epoch 39/150\n",
      "43/43 [==============================] - 6s 149ms/step - loss: 0.0034\n",
      "Epoch 40/150\n",
      "43/43 [==============================] - 6s 132ms/step - loss: 0.0037\n",
      "Epoch 41/150\n",
      "43/43 [==============================] - 6s 143ms/step - loss: 0.0038\n",
      "Epoch 42/150\n",
      "43/43 [==============================] - 6s 137ms/step - loss: 0.0038\n",
      "Epoch 43/150\n",
      "43/43 [==============================] - 6s 132ms/step - loss: 0.0032\n",
      "Epoch 44/150\n",
      "43/43 [==============================] - 6s 143ms/step - loss: 0.0034\n",
      "Epoch 45/150\n",
      "43/43 [==============================] - 8s 182ms/step - loss: 0.0030\n",
      "Epoch 46/150\n",
      "43/43 [==============================] - 8s 197ms/step - loss: 0.0031\n",
      "Epoch 47/150\n",
      "43/43 [==============================] - 6s 130ms/step - loss: 0.0031\n",
      "Epoch 48/150\n",
      "43/43 [==============================] - 6s 145ms/step - loss: 0.0032\n",
      "Epoch 49/150\n",
      "43/43 [==============================] - 7s 156ms/step - loss: 0.0031\n",
      "Epoch 50/150\n",
      "43/43 [==============================] - 6s 137ms/step - loss: 0.0032\n",
      "Epoch 51/150\n",
      "43/43 [==============================] - 6s 141ms/step - loss: 0.0026\n",
      "Epoch 52/150\n",
      "43/43 [==============================] - 6s 148ms/step - loss: 0.0033\n",
      "Epoch 53/150\n",
      "43/43 [==============================] - 6s 138ms/step - loss: 0.0030\n",
      "Epoch 54/150\n",
      "43/43 [==============================] - 6s 148ms/step - loss: 0.0027\n",
      "Epoch 55/150\n",
      "43/43 [==============================] - 6s 133ms/step - loss: 0.0031\n",
      "Epoch 56/150\n",
      "43/43 [==============================] - 6s 149ms/step - loss: 0.0028\n",
      "Epoch 57/150\n",
      "43/43 [==============================] - 5s 128ms/step - loss: 0.0025\n",
      "Epoch 58/150\n",
      "43/43 [==============================] - 6s 145ms/step - loss: 0.0027\n",
      "Epoch 59/150\n",
      "43/43 [==============================] - 6s 145ms/step - loss: 0.0029\n",
      "Epoch 60/150\n",
      "43/43 [==============================] - 7s 167ms/step - loss: 0.0027\n",
      "Epoch 61/150\n",
      "43/43 [==============================] - 6s 145ms/step - loss: 0.0027\n",
      "Epoch 62/150\n",
      "43/43 [==============================] - 6s 145ms/step - loss: 0.0026\n",
      "Epoch 63/150\n",
      "43/43 [==============================] - 6s 143ms/step - loss: 0.0026\n",
      "Epoch 64/150\n",
      "43/43 [==============================] - 7s 168ms/step - loss: 0.0023\n",
      "Epoch 65/150\n",
      "43/43 [==============================] - 6s 146ms/step - loss: 0.0026\n",
      "Epoch 66/150\n",
      "43/43 [==============================] - 6s 152ms/step - loss: 0.0025\n",
      "Epoch 67/150\n",
      "43/43 [==============================] - 6s 141ms/step - loss: 0.0024\n",
      "Epoch 68/150\n",
      "43/43 [==============================] - 6s 147ms/step - loss: 0.0024\n",
      "Epoch 69/150\n",
      "43/43 [==============================] - 6s 146ms/step - loss: 0.0022\n",
      "Epoch 70/150\n",
      "43/43 [==============================] - 6s 140ms/step - loss: 0.0025\n",
      "Epoch 71/150\n",
      "43/43 [==============================] - 6s 150ms/step - loss: 0.0021\n",
      "Epoch 72/150\n",
      "43/43 [==============================] - 6s 148ms/step - loss: 0.0023\n",
      "Epoch 73/150\n",
      "43/43 [==============================] - 6s 137ms/step - loss: 0.0022\n",
      "Epoch 74/150\n",
      "43/43 [==============================] - 6s 143ms/step - loss: 0.0021\n",
      "Epoch 75/150\n",
      "43/43 [==============================] - 6s 140ms/step - loss: 0.0025\n",
      "Epoch 76/150\n",
      "43/43 [==============================] - 7s 159ms/step - loss: 0.0026\n",
      "Epoch 77/150\n",
      "43/43 [==============================] - 6s 141ms/step - loss: 0.0023\n",
      "Epoch 78/150\n",
      "43/43 [==============================] - 6s 134ms/step - loss: 0.0022\n",
      "Epoch 79/150\n",
      "43/43 [==============================] - 6s 144ms/step - loss: 0.0022\n",
      "Epoch 80/150\n",
      "43/43 [==============================] - 7s 154ms/step - loss: 0.0020\n",
      "Epoch 81/150\n",
      "43/43 [==============================] - 6s 143ms/step - loss: 0.0021\n",
      "Epoch 82/150\n",
      "43/43 [==============================] - 6s 145ms/step - loss: 0.0022\n",
      "Epoch 83/150\n",
      "43/43 [==============================] - 6s 131ms/step - loss: 0.0023\n",
      "Epoch 84/150\n",
      "43/43 [==============================] - 6s 147ms/step - loss: 0.0020\n",
      "Epoch 85/150\n",
      "43/43 [==============================] - 6s 133ms/step - loss: 0.0020\n",
      "Epoch 86/150\n",
      "43/43 [==============================] - 6s 132ms/step - loss: 0.0018\n",
      "Epoch 87/150\n",
      "43/43 [==============================] - 6s 143ms/step - loss: 0.0021\n",
      "Epoch 88/150\n",
      "43/43 [==============================] - 6s 150ms/step - loss: 0.0017\n",
      "Epoch 89/150\n",
      "43/43 [==============================] - 6s 131ms/step - loss: 0.0020\n",
      "Epoch 90/150\n",
      "43/43 [==============================] - 6s 144ms/step - loss: 0.0021\n",
      "Epoch 91/150\n",
      "43/43 [==============================] - 6s 132ms/step - loss: 0.0019\n",
      "Epoch 92/150\n",
      "43/43 [==============================] - 5s 126ms/step - loss: 0.0019\n",
      "Epoch 93/150\n",
      "43/43 [==============================] - 6s 132ms/step - loss: 0.0018\n",
      "Epoch 94/150\n",
      "43/43 [==============================] - 6s 140ms/step - loss: 0.0018\n",
      "Epoch 95/150\n",
      "43/43 [==============================] - 6s 140ms/step - loss: 0.0022\n",
      "Epoch 96/150\n",
      "43/43 [==============================] - 8s 184ms/step - loss: 0.0018\n",
      "Epoch 97/150\n",
      "43/43 [==============================] - 7s 165ms/step - loss: 0.0017\n",
      "Epoch 98/150\n",
      "43/43 [==============================] - 8s 185ms/step - loss: 0.0018\n",
      "Epoch 99/150\n",
      "43/43 [==============================] - 8s 181ms/step - loss: 0.0018\n",
      "Epoch 100/150\n",
      "43/43 [==============================] - 8s 185ms/step - loss: 0.0018\n",
      "Epoch 101/150\n",
      "43/43 [==============================] - 8s 185ms/step - loss: 0.0018\n",
      "Epoch 102/150\n",
      "43/43 [==============================] - 7s 171ms/step - loss: 0.0018\n",
      "Epoch 103/150\n",
      "43/43 [==============================] - 8s 173ms/step - loss: 0.0017\n",
      "Epoch 104/150\n",
      "43/43 [==============================] - 7s 157ms/step - loss: 0.0019\n",
      "Epoch 105/150\n",
      "43/43 [==============================] - 7s 162ms/step - loss: 0.0018\n",
      "Epoch 106/150\n",
      "43/43 [==============================] - 6s 143ms/step - loss: 0.0019\n",
      "Epoch 107/150\n",
      "43/43 [==============================] - 6s 139ms/step - loss: 0.0017\n",
      "Epoch 108/150\n",
      "43/43 [==============================] - 6s 131ms/step - loss: 0.0017\n",
      "Epoch 109/150\n",
      "43/43 [==============================] - 6s 145ms/step - loss: 0.0016\n",
      "Epoch 110/150\n",
      "43/43 [==============================] - 6s 137ms/step - loss: 0.0017\n",
      "Epoch 111/150\n",
      "43/43 [==============================] - 6s 148ms/step - loss: 0.0017\n",
      "Epoch 112/150\n",
      "43/43 [==============================] - 6s 136ms/step - loss: 0.0017\n",
      "Epoch 113/150\n",
      "43/43 [==============================] - 6s 140ms/step - loss: 0.0017\n",
      "Epoch 114/150\n",
      "43/43 [==============================] - 6s 137ms/step - loss: 0.0018\n",
      "Epoch 115/150\n",
      "43/43 [==============================] - 6s 145ms/step - loss: 0.0017\n",
      "Epoch 116/150\n",
      "43/43 [==============================] - 6s 133ms/step - loss: 0.0022\n",
      "Epoch 117/150\n",
      "43/43 [==============================] - 6s 138ms/step - loss: 0.0016\n",
      "Epoch 118/150\n",
      "43/43 [==============================] - 6s 144ms/step - loss: 0.0017\n",
      "Epoch 119/150\n",
      "43/43 [==============================] - 6s 140ms/step - loss: 0.0019\n",
      "Epoch 120/150\n",
      "43/43 [==============================] - 8s 179ms/step - loss: 0.0015\n",
      "Epoch 121/150\n",
      "43/43 [==============================] - 9s 201ms/step - loss: 0.0017\n",
      "Epoch 122/150\n",
      "43/43 [==============================] - 7s 157ms/step - loss: 0.0017\n",
      "Epoch 123/150\n",
      "43/43 [==============================] - 6s 129ms/step - loss: 0.0015\n",
      "Epoch 124/150\n",
      "43/43 [==============================] - 7s 164ms/step - loss: 0.0017\n",
      "Epoch 125/150\n",
      "43/43 [==============================] - 8s 185ms/step - loss: 0.0016\n",
      "Epoch 126/150\n",
      "43/43 [==============================] - 8s 191ms/step - loss: 0.0017\n",
      "Epoch 127/150\n",
      "43/43 [==============================] - 8s 191ms/step - loss: 0.0014\n",
      "Epoch 128/150\n",
      "43/43 [==============================] - 8s 196ms/step - loss: 0.0015\n",
      "Epoch 129/150\n",
      "43/43 [==============================] - 8s 191ms/step - loss: 0.0015\n",
      "Epoch 130/150\n",
      "43/43 [==============================] - 7s 159ms/step - loss: 0.0014\n",
      "Epoch 131/150\n",
      "43/43 [==============================] - 7s 173ms/step - loss: 0.0016\n",
      "Epoch 132/150\n",
      "43/43 [==============================] - 8s 181ms/step - loss: 0.0016\n",
      "Epoch 133/150\n",
      "43/43 [==============================] - 8s 191ms/step - loss: 0.0016\n",
      "Epoch 134/150\n",
      "43/43 [==============================] - 8s 194ms/step - loss: 0.0015\n",
      "Epoch 135/150\n",
      "43/43 [==============================] - 6s 142ms/step - loss: 0.0016\n",
      "Epoch 136/150\n",
      "43/43 [==============================] - 6s 133ms/step - loss: 0.0014\n",
      "Epoch 137/150\n",
      "43/43 [==============================] - 6s 142ms/step - loss: 0.0014\n",
      "Epoch 138/150\n",
      "43/43 [==============================] - 7s 161ms/step - loss: 0.0015\n",
      "Epoch 139/150\n",
      "43/43 [==============================] - 7s 165ms/step - loss: 0.0017\n",
      "Epoch 140/150\n",
      "43/43 [==============================] - 6s 128ms/step - loss: 0.0015\n",
      "Epoch 141/150\n",
      "43/43 [==============================] - 7s 162ms/step - loss: 0.0015\n",
      "Epoch 142/150\n",
      "43/43 [==============================] - 8s 188ms/step - loss: 0.0016\n",
      "Epoch 143/150\n",
      "43/43 [==============================] - 8s 185ms/step - loss: 0.0016\n",
      "Epoch 144/150\n",
      "43/43 [==============================] - 7s 167ms/step - loss: 0.0015\n",
      "Epoch 145/150\n",
      "43/43 [==============================] - 7s 160ms/step - loss: 0.0015\n",
      "Epoch 146/150\n",
      "43/43 [==============================] - 8s 193ms/step - loss: 0.0013\n",
      "Epoch 147/150\n",
      "43/43 [==============================] - 7s 154ms/step - loss: 0.0015\n",
      "Epoch 148/150\n",
      "43/43 [==============================] - 8s 183ms/step - loss: 0.0014\n",
      "Epoch 149/150\n",
      "43/43 [==============================] - 8s 182ms/step - loss: 0.0015\n",
      "Epoch 150/150\n",
      "43/43 [==============================] - 8s 183ms/step - loss: 0.0015\n"
     ]
    },
    {
     "data": {
      "text/plain": [
       "<keras.src.callbacks.History at 0x7f77270be610>"
      ]
     },
     "execution_count": 37,
     "metadata": {},
     "output_type": "execute_result"
    }
   ],
   "source": [
    "model.fit(X_train, y_train, epochs=150, batch_size=16)"
   ]
  },
  {
   "cell_type": "markdown",
   "metadata": {},
   "source": [
    "### 預測"
   ]
  },
  {
   "cell_type": "code",
   "execution_count": 38,
   "metadata": {},
   "outputs": [],
   "source": [
    "spread_test = calculate_spread(df , min_p_value_pair , const_year_test, const_year_test)\n",
    "real_stock_spread = spread_test.values"
   ]
  },
  {
   "cell_type": "code",
   "execution_count": 39,
   "metadata": {},
   "outputs": [],
   "source": [
    "dataset_total = pd.concat((spread_train, spread_test), axis = 0) # dataset_total是真實的股價spread\n",
    "inputs = dataset_total[len(dataset_total) - len(spread_test) - 60:].values # inputs是160筆真實的股價spread\n",
    "inputs = inputs.reshape(-1,1)\n",
    "inputs = scaler.transform(inputs) # Feature Scaling"
   ]
  },
  {
   "cell_type": "code",
   "execution_count": 40,
   "metadata": {},
   "outputs": [],
   "source": [
    "X_test = []\n",
    "for i in range(60, 60 + len(spread_test)): # timesteps一樣60； 160 = 先前的60天資料 + const_year_test年的244天資料\n",
    "    X_test.append(inputs[i-60:i, 0])\n",
    "X_test = np.array(X_test)\n",
    "X_test = np.reshape(X_test, (X_test.shape[0], X_test.shape[1], 1))  # Reshape 成 3-dimension"
   ]
  },
  {
   "cell_type": "code",
   "execution_count": 41,
   "metadata": {},
   "outputs": [
    {
     "name": "stdout",
     "output_type": "stream",
     "text": [
      "8/8 [==============================] - 5s 71ms/step\n"
     ]
    }
   ],
   "source": [
    "predicted_stock_spread = model.predict(X_test)\n",
    "predicted_stock_spread = scaler.inverse_transform(predicted_stock_spread)  # to get the original scale"
   ]
  },
  {
   "cell_type": "markdown",
   "metadata": {},
   "source": [
    "### MSE"
   ]
  },
  {
   "cell_type": "code",
   "execution_count": 42,
   "metadata": {},
   "outputs": [
    {
     "name": "stdout",
     "output_type": "stream",
     "text": [
      "Mean Squared Error: 31.529691807653652\n"
     ]
    }
   ],
   "source": [
    "# Compute Mean Squared Error\n",
    "mse = mean_squared_error(real_stock_spread, predicted_stock_spread)\n",
    "print(f\"Mean Squared Error: {mse}\")"
   ]
  },
  {
   "cell_type": "code",
   "execution_count": 43,
   "metadata": {},
   "outputs": [],
   "source": [
    "# Convert the arrays to DataFrames\n",
    "df_real_stock_spread_a = pd.DataFrame(real_stock_spread, columns=['Real Stock Spread'])\n",
    "df_predicted_stock_spread_a = pd.DataFrame(predicted_stock_spread, columns=['Predicted Stock Spread'])\n",
    "\n",
    "# Create DataFrames for stock codes and p-values\n",
    "df_stock_codes_a = pd.DataFrame([[min_p_value_pair[0], min_p_value_pair[1]]], columns=['Stock Code 1', 'Stock Code 2'])\n",
    "df_p_values_a = pd.DataFrame([[min_p_values[0], min_p_values[1]]], columns=['P-value 1', 'P-value 2'])\n",
    "\n",
    "# Combine the DataFrames into a single DataFrame before saving\n",
    "combined_df_a = pd.concat([df_real_stock_spread_a, df_predicted_stock_spread_a, df_stock_codes_a, df_p_values_a], axis=1)\n",
    "\n",
    "# Save the combined DataFrame to an Excel file\n",
    "combined_df_a.to_excel('aggressive_stock_data_2016.xlsx', index=False)"
   ]
  },
  {
   "cell_type": "markdown",
   "metadata": {},
   "source": [
    "### 圖像化"
   ]
  },
  {
   "cell_type": "code",
   "execution_count": 44,
   "metadata": {},
   "outputs": [
    {
     "data": {
      "image/png": "[encoded data removed]",
      "text/plain": [
       "<Figure size 864x432 with 1 Axes>"
      ]
     },
     "metadata": {
      "needs_background": "light"
     },
     "output_type": "display_data"
    }
   ],
   "source": [
    "mean_spread = np.mean(predicted_stock_spread)\n",
    "std_spread = np.std(predicted_stock_spread)\n",
    "threshold = 1.5 * std_spread\n",
    "\n",
    "# Visualising the results with MSE and threshold lines\n",
    "plt.figure(figsize=(12,6))\n",
    "plt.plot(real_stock_spread, color='red', label='Real Stock Spread')\n",
    "plt.plot(predicted_stock_spread, color='lime', label='Predicted Stock Spread')\n",
    "\n",
    "# Draw horizontal lines for the threshold\n",
    "plt.axhline(y=mean_spread + threshold, color='blue', linestyle='--', label='Upper Threshold')\n",
    "plt.axhline(y=mean_spread - threshold, color='orange', linestyle='--', label='Lower Threshold')\n",
    "\n",
    "# Draw a horizontal line for MSE\n",
    "# plt.axhline(y=mse, color='purple', linestyle='-', label=f'MSE: {mse:.4f}')\n",
    "\n",
    "plt.title('Stock Spread Prediction with MSE and Threshold Lines')\n",
    "plt.xlabel('Time')\n",
    "plt.ylabel('Stock Price Spread')\n",
    "plt.legend()\n",
    "plt.show()"
   ]
  },
  {
   "cell_type": "markdown",
   "metadata": {},
   "source": [
    "## Calculate the profit"
   ]
  },
  {
   "cell_type": "code",
   "execution_count": 45,
   "metadata": {},
   "outputs": [],
   "source": [
    "# Assuming we have the same setup as previously defined\n",
    "spreads = predicted_stock_spread  # Your spread data here"
   ]
  },
  {
   "cell_type": "code",
   "execution_count": 46,
   "metadata": {},
   "outputs": [],
   "source": [
    "prices_overvalued, prices_undervalued, overvalued_code, undervalued_code = get_overvalued_and_undervalued_stocks(df, predicted_stock_spread, min_p_value_pair, const_year_test)\n",
    "# print(len(prices_overvalued))\n",
    "# print(prices_overvalued)\n",
    "# print(prices_undervalued)"
   ]
  },
  {
   "cell_type": "code",
   "execution_count": 47,
   "metadata": {},
   "outputs": [
    {
     "name": "stdout",
     "output_type": "stream",
     "text": [
      "Entering trade at index 0, spread [364.71927]\n",
      "Overvalued shares: 0.0027434842249657062, Undervalued shares: 0.07142857142857142\n",
      "Exiting trade at index 1, spread [351.55817]\n",
      "Profit from trade: 0.11931826499118155\n",
      "----------------END----------------\n",
      "Entering trade at index 78, spread [293.36893]\n",
      "Overvalued shares: 0.0032679738562091504, Undervalued shares: 0.08298755186721991\n",
      "Entering trade at index 79, spread [293.54407]\n",
      "Overvalued shares: 0.0033277870216306157, Undervalued shares: 0.08368200836820085\n",
      "Entering trade at index 80, spread [290.0615]\n",
      "Overvalued shares: 0.0033444816053511705, Undervalued shares: 0.08658008658008658\n",
      "Entering trade at index 81, spread [288.46893]\n",
      "Overvalued shares: 0.003389830508474576, Undervalued shares: 0.08849557522123894\n",
      "Entering trade at index 82, spread [285.1826]\n",
      "Overvalued shares: 0.003367003367003367, Undervalued shares: 0.08888888888888889\n",
      "Entering trade at index 83, spread [286.37958]\n",
      "Overvalued shares: 0.0034423407917383822, Undervalued shares: 0.09433962264150944\n",
      "Entering trade at index 84, spread [281.9201]\n",
      "Overvalued shares: 0.0036036036036036037, Undervalued shares: 0.0966183574879227\n",
      "Entering trade at index 85, spread [270.00055]\n",
      "Overvalued shares: 0.003430531732418525, Undervalued shares: 0.09615384615384615\n",
      "Entering trade at index 86, spread [280.00244]\n",
      "Overvalued shares: 0.0034129692832764505, Undervalued shares: 0.09523809523809523\n",
      "Entering trade at index 87, spread [284.53122]\n",
      "Overvalued shares: 0.0034071550255536627, Undervalued shares: 0.0881057268722467\n",
      "Entering trade at index 88, spread [284.37766]\n",
      "Overvalued shares: 0.003484320557491289, Undervalued shares: 0.08771929824561403\n",
      "Entering trade at index 89, spread [278.0347]\n",
      "Overvalued shares: 0.003430531732418525, Undervalued shares: 0.08771929824561403\n",
      "Entering trade at index 90, spread [280.2011]\n",
      "Overvalued shares: 0.0033003300330033004, Undervalued shares: 0.08620689655172414\n",
      "Entering trade at index 91, spread [291.11923]\n",
      "Overvalued shares: 0.0033222591362126247, Undervalued shares: 0.08547008547008547\n",
      "Entering trade at index 92, spread [291.5148]\n",
      "Overvalued shares: 0.0033003300330033004, Undervalued shares: 0.08547008547008547\n",
      "Entering trade at index 93, spread [292.02304]\n",
      "Overvalued shares: 0.0033003300330033004, Undervalued shares: 0.0851063829787234\n",
      "Entering trade at index 94, spread [291.7382]\n",
      "Overvalued shares: 0.0032102728731942215, Undervalued shares: 0.08438818565400844\n",
      "Exiting trade at index 95, spread [298.7503]\n",
      "Profit from trade: 2.36621532265685\n",
      "----------------END----------------\n",
      "Entering trade at index 100, spread [294.38126]\n",
      "Overvalued shares: 0.003205128205128205, Undervalued shares: 0.08032128514056225\n",
      "Exiting trade at index 101, spread [298.08395]\n",
      "Profit from trade: 0.17842162978838427\n",
      "----------------END----------------\n",
      "Entering trade at index 108, spread [288.2253]\n",
      "Overvalued shares: 0.0032520325203252032, Undervalued shares: 0.0819672131147541\n",
      "Entering trade at index 109, spread [293.2025]\n",
      "Overvalued shares: 0.0031007751937984496, Undervalued shares: 0.08032128514056225\n",
      "Exiting trade at index 110, spread [307.85684]\n",
      "Profit from trade: 0.3151301170790672\n",
      "----------------END----------------\n",
      "Cumulative profit: 2.9790853345154833\n",
      "Total capital at risk: 25\n",
      "Return rate: 11.916341338061933%\n"
     ]
    }
   ],
   "source": [
    "mean_spread = np.mean(spreads)\n",
    "std_spread = np.std(spreads)\n",
    "threshold = 1.5 * std_spread\n",
    "\n",
    "# Track positions and other metrics\n",
    "positions = []\n",
    "profits = []\n",
    "equity_curve = []\n",
    "nominal_capital = 1  # Nominal capital at risk per trade\n",
    "total_capital_invested = 0\n",
    "\n",
    "total_shares_overvalued = 0\n",
    "total_shares_undervalued = 0\n",
    "\n",
    "for i, spread in enumerate(spreads):\n",
    "    if (spread > mean_spread + threshold) or (spread < mean_spread - threshold):\n",
    "        if i != len(spreads) - 1:\n",
    "            # prices_overvalued, prices_undervalued, overvalued_code, undervalued_code = get_overvalued_and_undervalued_stocks(df, predicted_stock_spread, min_p_value_pair, const_year_test, i)\n",
    "            # Enter trade\n",
    "            num_shares_overvalued = nominal_capital / prices_overvalued[i] # 1 / prices_overvalued\n",
    "            num_shares_undervalued = nominal_capital / prices_undervalued[i] # 1 / prices_undervalued\n",
    "            if spread < 0:\n",
    "                num_shares_overvalued = nominal_capital / prices_undervalued[i]\n",
    "                num_shares_undervalued = nominal_capital / prices_overvalued[i]\n",
    "            # debug\n",
    "            print(f\"Entering trade at index {i}, spread {spread}\")\n",
    "            print(f\"Overvalued shares: {num_shares_overvalued}, Undervalued shares: {num_shares_undervalued}\")\n",
    "            total_shares_overvalued += num_shares_overvalued\n",
    "            total_shares_undervalued += num_shares_undervalued\n",
    "            total_capital_invested += (nominal_capital * 1.001425)\n",
    "            positions.append(i)  # Store the index of the trading day\n",
    "            check_enterOrNot = True\n",
    "    if ((mean_spread - threshold <= spread <= mean_spread + threshold) and positions and check_enterOrNot == True) or (i == len(spreads) - 1 and positions and check_enterOrNot == True):\n",
    "        # Exit trade\n",
    "        exit_price_overvalued = prices_overvalued.iloc[-1]  # Last day price\n",
    "        exit_price_undervalued = prices_undervalued.iloc[-1]  # Last day price\n",
    "        pi = (total_shares_overvalued * exit_price_overvalued) - (total_shares_undervalued * exit_price_undervalued)\n",
    "        pi = pi * (1 - 0.001425)\n",
    "        profits.append(pi)\n",
    "        positions.append(i)\n",
    "        total_shares_overvalued = 0\n",
    "        total_shares_undervalued = 0\n",
    "        # debug\n",
    "        print(f\"Exiting trade at index {i}, spread {spread}\")\n",
    "        print(f\"Profit from trade: {pi}\")\n",
    "        print(\"----------------END----------------\")\n",
    "        check_enterOrNot = False\n",
    "\n",
    "        if i == len(spreads) - 1:  # If it's the last day, calculate the final equity curve point\n",
    "            equity_curve.append(sum(profits) - total_capital_invested)\n",
    "\n",
    "\n",
    "cumulative_profit = sum(profits)\n",
    "total_trades = len(positions) # Total number of completed trades\n",
    "total_capital_at_risk = total_trades * nominal_capital\n",
    "return_rate = cumulative_profit / total_capital_at_risk if total_capital_at_risk != 0 else 0\n",
    "\n",
    "print(f\"Cumulative profit: {cumulative_profit}\")\n",
    "print(f\"Total capital at risk: {total_capital_at_risk}\")\n",
    "print(f\"Return rate: {return_rate * 100}%\")"
   ]
  },
  {
   "cell_type": "markdown",
   "metadata": {},
   "source": [
    "## Defensive Stocks"
   ]
  },
  {
   "cell_type": "code",
   "execution_count": 48,
   "metadata": {},
   "outputs": [
    {
     "name": "stdout",
     "output_type": "stream",
     "text": [
      "股票对 ('9937', '2035') 有最小的 P 值: (0.005105163147042618, 0.0030760920397734826)\n"
     ]
    }
   ],
   "source": [
    "stock_codes_d = [stock[0] for stock in top_10_defensive_stocks]\n",
    "# 生成所有可能的股票对\n",
    "stock_pairs_d = list(itertools.combinations(stock_codes_d, 2))\n",
    "\n",
    "# 對每對股票進行雙向協整測試並記錄 P 值\n",
    "p_values_dict = {}\n",
    "\n",
    "for pair in stock_pairs_d:\n",
    "    stock1, stock2 = pair\n",
    "    df_stock1 = df[df['證券代碼'] == stock1]\n",
    "    df_stock2 = df[df['證券代碼'] == stock2]\n",
    "\n",
    "    # 取得股票價格數據\n",
    "    stock1_prices = get_price_for_period(df_stock1, const_year_start, const_year_start + 2)\n",
    "    stock2_prices = get_price_for_period(df_stock2, const_year_start, const_year_start + 2)\n",
    "\n",
    "    # 雙向協整測試\n",
    "    p_value_1 = cointegration_test(stock1_prices, stock2_prices)\n",
    "    p_value_2 = cointegration_test(stock2_prices, stock1_prices)\n",
    "\n",
    "    # 如果兩個 P 值都小於 0.05，則記錄這對股票和它們的 P 值\n",
    "    if p_value_1 < 0.05 and p_value_2 < 0.05:\n",
    "        p_values_dict[(stock1, stock2)] = (p_value_1, p_value_2)\n",
    "\n",
    "# 找出具有最小最大 P 值的股票对\n",
    "min_p_value_pair = min(p_values_dict, key=lambda x: max(p_values_dict[x]))\n",
    "min_p_values = p_values_dict[min_p_value_pair]\n",
    "\n",
    "print(f\"股票对 {min_p_value_pair} 有最小的 P 值: {min_p_values}\")"
   ]
  },
  {
   "cell_type": "code",
   "execution_count": 49,
   "metadata": {},
   "outputs": [],
   "source": [
    "spread_train = calculate_spread(df , min_p_value_pair , const_year_start , const_year_start + 2)\n",
    "\n",
    "# 规范化数据\n",
    "scaler = MinMaxScaler(feature_range=(0, 1))\n",
    "spread_train_scaled = scaler.fit_transform(spread_train.values.reshape(-1, 1))\n",
    "\n",
    "X_train = []   #預測點的前 60 天的資料\n",
    "y_train = []   #預測點\n",
    "for i in range(60, len(spread_train)):  # 727 是訓練集總數，60代表用過去60天的資料訓練\n",
    "    X_train.append(spread_train_scaled[i-60:i, 0])\n",
    "    y_train.append(spread_train_scaled[i, 0])\n",
    "X_train, y_train = np.array(X_train), np.array(y_train)  # 轉成numpy array的格式，以利輸入 RNN\n",
    "\n",
    "# 初始化 LSTM 模型\n",
    "model = Sequential()\n",
    "# Adding the first LSTM layer and some Dropout regularisation\n",
    "model.add(LSTM(units = 50, return_sequences = True, input_shape = (X_train.shape[1], 1)))\n",
    "model.add(Dropout(0.2))\n",
    "\n",
    "# Adding a second LSTM layer and some Dropout regularisation\n",
    "model.add(LSTM(units = 50, return_sequences = True))\n",
    "model.add(Dropout(0.2))\n",
    "\n",
    "# Adding a third LSTM layer and some Dropout regularisation\n",
    "model.add(LSTM(units = 50, return_sequences = True))\n",
    "model.add(Dropout(0.2))\n",
    "\n",
    "# Adding a fourth LSTM layer and some Dropout regularisation\n",
    "model.add(LSTM(units = 50))\n",
    "model.add(Dropout(0.2))\n",
    "\n",
    "# Adding the output layer\n",
    "model.add(Dense(units = 1))\n",
    "\n",
    "# 编译模型\n",
    "model.compile(optimizer='adam', loss='mean_squared_error')"
   ]
  },
  {
   "cell_type": "code",
   "execution_count": 50,
   "metadata": {},
   "outputs": [
    {
     "name": "stdout",
     "output_type": "stream",
     "text": [
      "Epoch 1/150\n",
      "42/42 [==============================] - 24s 184ms/step - loss: 0.0568\n",
      "Epoch 2/150\n",
      "42/42 [==============================] - 8s 190ms/step - loss: 0.0152\n",
      "Epoch 3/150\n",
      "42/42 [==============================] - 8s 185ms/step - loss: 0.0157\n",
      "Epoch 4/150\n",
      "42/42 [==============================] - 6s 149ms/step - loss: 0.0148\n",
      "Epoch 5/150\n",
      "42/42 [==============================] - 7s 158ms/step - loss: 0.0121\n",
      "Epoch 6/150\n",
      "42/42 [==============================] - 7s 175ms/step - loss: 0.0116\n",
      "Epoch 7/150\n",
      "42/42 [==============================] - 7s 162ms/step - loss: 0.0110\n",
      "Epoch 8/150\n",
      "42/42 [==============================] - 6s 133ms/step - loss: 0.0118\n",
      "Epoch 9/150\n",
      "42/42 [==============================] - 6s 138ms/step - loss: 0.0103\n",
      "Epoch 10/150\n",
      "42/42 [==============================] - 6s 138ms/step - loss: 0.0096\n",
      "Epoch 11/150\n",
      "42/42 [==============================] - 6s 137ms/step - loss: 0.0081\n",
      "Epoch 12/150\n",
      "42/42 [==============================] - 6s 133ms/step - loss: 0.0076\n",
      "Epoch 13/150\n",
      "42/42 [==============================] - 6s 134ms/step - loss: 0.0080\n",
      "Epoch 14/150\n",
      "42/42 [==============================] - 6s 140ms/step - loss: 0.0084\n",
      "Epoch 15/150\n",
      "42/42 [==============================] - 6s 135ms/step - loss: 0.0075\n",
      "Epoch 16/150\n",
      "42/42 [==============================] - 6s 140ms/step - loss: 0.0078\n",
      "Epoch 17/150\n",
      "42/42 [==============================] - 6s 138ms/step - loss: 0.0070\n",
      "Epoch 18/150\n",
      "42/42 [==============================] - 6s 134ms/step - loss: 0.0065\n",
      "Epoch 19/150\n",
      "42/42 [==============================] - 6s 139ms/step - loss: 0.0071\n",
      "Epoch 20/150\n",
      "42/42 [==============================] - 6s 138ms/step - loss: 0.0077\n",
      "Epoch 21/150\n",
      "42/42 [==============================] - 6s 139ms/step - loss: 0.0067\n",
      "Epoch 22/150\n",
      "42/42 [==============================] - 6s 134ms/step - loss: 0.0069\n",
      "Epoch 23/150\n",
      "42/42 [==============================] - 6s 135ms/step - loss: 0.0067\n",
      "Epoch 24/150\n",
      "42/42 [==============================] - 6s 138ms/step - loss: 0.0067\n",
      "Epoch 25/150\n",
      "42/42 [==============================] - 7s 160ms/step - loss: 0.0075\n",
      "Epoch 26/150\n",
      "42/42 [==============================] - 7s 155ms/step - loss: 0.0072\n",
      "Epoch 27/150\n",
      "42/42 [==============================] - 6s 152ms/step - loss: 0.0058\n",
      "Epoch 28/150\n",
      "42/42 [==============================] - 6s 152ms/step - loss: 0.0062\n",
      "Epoch 29/150\n",
      "42/42 [==============================] - 6s 148ms/step - loss: 0.0066\n",
      "Epoch 30/150\n",
      "42/42 [==============================] - 6s 138ms/step - loss: 0.0059\n",
      "Epoch 31/150\n",
      "42/42 [==============================] - 6s 139ms/step - loss: 0.0055\n",
      "Epoch 32/150\n",
      "42/42 [==============================] - 8s 200ms/step - loss: 0.0061\n",
      "Epoch 33/150\n",
      "42/42 [==============================] - 6s 142ms/step - loss: 0.0056\n",
      "Epoch 34/150\n",
      "42/42 [==============================] - 6s 141ms/step - loss: 0.0059\n",
      "Epoch 35/150\n",
      "42/42 [==============================] - 6s 142ms/step - loss: 0.0062\n",
      "Epoch 36/150\n",
      "42/42 [==============================] - 6s 136ms/step - loss: 0.0061\n",
      "Epoch 37/150\n",
      "42/42 [==============================] - 4s 106ms/step - loss: 0.0060\n",
      "Epoch 38/150\n",
      "42/42 [==============================] - 5s 119ms/step - loss: 0.0053\n",
      "Epoch 39/150\n",
      "42/42 [==============================] - 5s 106ms/step - loss: 0.0052\n",
      "Epoch 40/150\n",
      "42/42 [==============================] - 6s 135ms/step - loss: 0.0058\n",
      "Epoch 41/150\n",
      "42/42 [==============================] - 5s 113ms/step - loss: 0.0059\n",
      "Epoch 42/150\n",
      "42/42 [==============================] - 5s 118ms/step - loss: 0.0063\n",
      "Epoch 43/150\n",
      "42/42 [==============================] - 5s 127ms/step - loss: 0.0055\n",
      "Epoch 44/150\n",
      "42/42 [==============================] - 6s 134ms/step - loss: 0.0056\n",
      "Epoch 45/150\n",
      "42/42 [==============================] - 4s 102ms/step - loss: 0.0051\n",
      "Epoch 46/150\n",
      "42/42 [==============================] - 5s 108ms/step - loss: 0.0056\n",
      "Epoch 47/150\n",
      "42/42 [==============================] - 5s 112ms/step - loss: 0.0053\n",
      "Epoch 48/150\n",
      "42/42 [==============================] - 4s 104ms/step - loss: 0.0051\n",
      "Epoch 49/150\n",
      "42/42 [==============================] - 5s 114ms/step - loss: 0.0045\n",
      "Epoch 50/150\n",
      "42/42 [==============================] - 5s 126ms/step - loss: 0.0052\n",
      "Epoch 51/150\n",
      "42/42 [==============================] - 7s 163ms/step - loss: 0.0049\n",
      "Epoch 52/150\n",
      "42/42 [==============================] - 6s 139ms/step - loss: 0.0052\n",
      "Epoch 53/150\n",
      "42/42 [==============================] - 6s 134ms/step - loss: 0.0045\n",
      "Epoch 54/150\n",
      "42/42 [==============================] - 6s 139ms/step - loss: 0.0047\n",
      "Epoch 55/150\n",
      "42/42 [==============================] - 5s 115ms/step - loss: 0.0047\n",
      "Epoch 56/150\n",
      "42/42 [==============================] - 4s 100ms/step - loss: 0.0047\n",
      "Epoch 57/150\n",
      "42/42 [==============================] - 5s 108ms/step - loss: 0.0048\n",
      "Epoch 58/150\n",
      "42/42 [==============================] - 4s 103ms/step - loss: 0.0048\n",
      "Epoch 59/150\n",
      "42/42 [==============================] - 4s 97ms/step - loss: 0.0051\n",
      "Epoch 60/150\n",
      "42/42 [==============================] - 5s 110ms/step - loss: 0.0046\n",
      "Epoch 61/150\n",
      "42/42 [==============================] - 5s 121ms/step - loss: 0.0047\n",
      "Epoch 62/150\n",
      "42/42 [==============================] - 4s 94ms/step - loss: 0.0044\n",
      "Epoch 63/150\n",
      "42/42 [==============================] - 4s 95ms/step - loss: 0.0046\n",
      "Epoch 64/150\n",
      "42/42 [==============================] - 4s 98ms/step - loss: 0.0043\n",
      "Epoch 65/150\n",
      "42/42 [==============================] - 4s 97ms/step - loss: 0.0044\n",
      "Epoch 66/150\n",
      "42/42 [==============================] - 4s 97ms/step - loss: 0.0047\n",
      "Epoch 67/150\n",
      "42/42 [==============================] - 4s 97ms/step - loss: 0.0047\n",
      "Epoch 68/150\n",
      "42/42 [==============================] - 4s 94ms/step - loss: 0.0044\n",
      "Epoch 69/150\n",
      "42/42 [==============================] - 4s 90ms/step - loss: 0.0042\n",
      "Epoch 70/150\n",
      "42/42 [==============================] - 4s 102ms/step - loss: 0.0043\n",
      "Epoch 71/150\n",
      "42/42 [==============================] - 4s 102ms/step - loss: 0.0043\n",
      "Epoch 72/150\n",
      "42/42 [==============================] - 4s 100ms/step - loss: 0.0041\n",
      "Epoch 73/150\n",
      "42/42 [==============================] - 4s 94ms/step - loss: 0.0040\n",
      "Epoch 74/150\n",
      "42/42 [==============================] - 4s 98ms/step - loss: 0.0038\n",
      "Epoch 75/150\n",
      "42/42 [==============================] - 4s 98ms/step - loss: 0.0038\n",
      "Epoch 76/150\n",
      "42/42 [==============================] - 4s 93ms/step - loss: 0.0041\n",
      "Epoch 77/150\n",
      "42/42 [==============================] - 4s 88ms/step - loss: 0.0040\n",
      "Epoch 78/150\n",
      "42/42 [==============================] - 4s 93ms/step - loss: 0.0037\n",
      "Epoch 79/150\n",
      "42/42 [==============================] - 4s 96ms/step - loss: 0.0038\n",
      "Epoch 80/150\n",
      "42/42 [==============================] - 4s 87ms/step - loss: 0.0036\n",
      "Epoch 81/150\n",
      "42/42 [==============================] - 4s 86ms/step - loss: 0.0033\n",
      "Epoch 82/150\n",
      "42/42 [==============================] - 4s 89ms/step - loss: 0.0037\n",
      "Epoch 83/150\n",
      "42/42 [==============================] - 4s 90ms/step - loss: 0.0038\n",
      "Epoch 84/150\n",
      "42/42 [==============================] - 4s 93ms/step - loss: 0.0034\n",
      "Epoch 85/150\n",
      "42/42 [==============================] - 4s 99ms/step - loss: 0.0036\n",
      "Epoch 86/150\n",
      "42/42 [==============================] - 4s 99ms/step - loss: 0.0034\n",
      "Epoch 87/150\n",
      "42/42 [==============================] - 4s 98ms/step - loss: 0.0037\n",
      "Epoch 88/150\n",
      "42/42 [==============================] - 6s 134ms/step - loss: 0.0031\n",
      "Epoch 89/150\n",
      "42/42 [==============================] - 5s 113ms/step - loss: 0.0030\n",
      "Epoch 90/150\n",
      "42/42 [==============================] - 5s 111ms/step - loss: 0.0031\n",
      "Epoch 91/150\n",
      "42/42 [==============================] - 4s 102ms/step - loss: 0.0034\n",
      "Epoch 92/150\n",
      "42/42 [==============================] - 4s 95ms/step - loss: 0.0032\n",
      "Epoch 93/150\n",
      "42/42 [==============================] - 4s 96ms/step - loss: 0.0031\n",
      "Epoch 94/150\n",
      "42/42 [==============================] - 4s 96ms/step - loss: 0.0031\n",
      "Epoch 95/150\n",
      "42/42 [==============================] - 4s 95ms/step - loss: 0.0033\n",
      "Epoch 96/150\n",
      "42/42 [==============================] - 4s 97ms/step - loss: 0.0030\n",
      "Epoch 97/150\n",
      "42/42 [==============================] - 4s 100ms/step - loss: 0.0030\n",
      "Epoch 98/150\n",
      "42/42 [==============================] - 4s 104ms/step - loss: 0.0032\n",
      "Epoch 99/150\n",
      "42/42 [==============================] - 5s 111ms/step - loss: 0.0032\n",
      "Epoch 100/150\n",
      "42/42 [==============================] - 4s 98ms/step - loss: 0.0029\n",
      "Epoch 101/150\n",
      "42/42 [==============================] - 4s 92ms/step - loss: 0.0033\n",
      "Epoch 102/150\n",
      "42/42 [==============================] - 4s 91ms/step - loss: 0.0029\n",
      "Epoch 103/150\n",
      "42/42 [==============================] - 4s 90ms/step - loss: 0.0027\n",
      "Epoch 104/150\n",
      "42/42 [==============================] - 4s 100ms/step - loss: 0.0027\n",
      "Epoch 105/150\n",
      "42/42 [==============================] - 4s 102ms/step - loss: 0.0028\n",
      "Epoch 106/150\n",
      "42/42 [==============================] - 4s 96ms/step - loss: 0.0030\n",
      "Epoch 107/150\n",
      "42/42 [==============================] - 4s 91ms/step - loss: 0.0027\n",
      "Epoch 108/150\n",
      "42/42 [==============================] - 4s 104ms/step - loss: 0.0025\n",
      "Epoch 109/150\n",
      "42/42 [==============================] - 4s 90ms/step - loss: 0.0027\n",
      "Epoch 110/150\n",
      "42/42 [==============================] - 4s 90ms/step - loss: 0.0027\n",
      "Epoch 111/150\n",
      "42/42 [==============================] - 4s 91ms/step - loss: 0.0027\n",
      "Epoch 112/150\n",
      "42/42 [==============================] - 4s 92ms/step - loss: 0.0033\n",
      "Epoch 113/150\n",
      "42/42 [==============================] - 4s 90ms/step - loss: 0.0026\n",
      "Epoch 114/150\n",
      "42/42 [==============================] - 4s 86ms/step - loss: 0.0025\n",
      "Epoch 115/150\n",
      "42/42 [==============================] - 4s 86ms/step - loss: 0.0023\n",
      "Epoch 116/150\n",
      "42/42 [==============================] - 4s 97ms/step - loss: 0.0027\n",
      "Epoch 117/150\n",
      "42/42 [==============================] - 4s 97ms/step - loss: 0.0026\n",
      "Epoch 118/150\n",
      "42/42 [==============================] - 4s 102ms/step - loss: 0.0027\n",
      "Epoch 119/150\n",
      "42/42 [==============================] - 4s 93ms/step - loss: 0.0026\n",
      "Epoch 120/150\n",
      "42/42 [==============================] - 4s 107ms/step - loss: 0.0027\n",
      "Epoch 121/150\n",
      "42/42 [==============================] - 6s 133ms/step - loss: 0.0023\n",
      "Epoch 122/150\n",
      "42/42 [==============================] - 7s 162ms/step - loss: 0.0026\n",
      "Epoch 123/150\n",
      "42/42 [==============================] - 7s 161ms/step - loss: 0.0024\n",
      "Epoch 124/150\n",
      "42/42 [==============================] - 4s 104ms/step - loss: 0.0026\n",
      "Epoch 125/150\n",
      "42/42 [==============================] - 5s 116ms/step - loss: 0.0025\n",
      "Epoch 126/150\n",
      "42/42 [==============================] - 6s 132ms/step - loss: 0.0025\n",
      "Epoch 127/150\n",
      "42/42 [==============================] - 5s 109ms/step - loss: 0.0026\n",
      "Epoch 128/150\n",
      "42/42 [==============================] - 5s 112ms/step - loss: 0.0024\n",
      "Epoch 129/150\n",
      "42/42 [==============================] - 5s 111ms/step - loss: 0.0025\n",
      "Epoch 130/150\n",
      "42/42 [==============================] - 6s 133ms/step - loss: 0.0026\n",
      "Epoch 131/150\n",
      "42/42 [==============================] - 4s 99ms/step - loss: 0.0027\n",
      "Epoch 132/150\n",
      "42/42 [==============================] - 4s 99ms/step - loss: 0.0026\n",
      "Epoch 133/150\n",
      "42/42 [==============================] - 4s 100ms/step - loss: 0.0023\n",
      "Epoch 134/150\n",
      "42/42 [==============================] - 4s 94ms/step - loss: 0.0023\n",
      "Epoch 135/150\n",
      "42/42 [==============================] - 4s 105ms/step - loss: 0.0025\n",
      "Epoch 136/150\n",
      "42/42 [==============================] - 4s 88ms/step - loss: 0.0025\n",
      "Epoch 137/150\n",
      "42/42 [==============================] - 4s 91ms/step - loss: 0.0024\n",
      "Epoch 138/150\n",
      "42/42 [==============================] - 4s 90ms/step - loss: 0.0022\n",
      "Epoch 139/150\n",
      "42/42 [==============================] - 4s 99ms/step - loss: 0.0022\n",
      "Epoch 140/150\n",
      "42/42 [==============================] - 4s 94ms/step - loss: 0.0024\n",
      "Epoch 141/150\n",
      "42/42 [==============================] - 4s 100ms/step - loss: 0.0024\n",
      "Epoch 142/150\n",
      "42/42 [==============================] - 4s 92ms/step - loss: 0.0022\n",
      "Epoch 143/150\n",
      "42/42 [==============================] - 4s 101ms/step - loss: 0.0021\n",
      "Epoch 144/150\n",
      "42/42 [==============================] - 4s 94ms/step - loss: 0.0027\n",
      "Epoch 145/150\n",
      "42/42 [==============================] - 4s 98ms/step - loss: 0.0025\n",
      "Epoch 146/150\n",
      "42/42 [==============================] - 4s 96ms/step - loss: 0.0025\n",
      "Epoch 147/150\n",
      "42/42 [==============================] - 4s 89ms/step - loss: 0.0024\n",
      "Epoch 148/150\n",
      "42/42 [==============================] - 4s 86ms/step - loss: 0.0023\n",
      "Epoch 149/150\n",
      "42/42 [==============================] - 4s 92ms/step - loss: 0.0025\n",
      "Epoch 150/150\n",
      "42/42 [==============================] - 4s 88ms/step - loss: 0.0024\n"
     ]
    },
    {
     "data": {
      "text/plain": [
       "<keras.src.callbacks.History at 0x7f7727d1da60>"
      ]
     },
     "execution_count": 50,
     "metadata": {},
     "output_type": "execute_result"
    }
   ],
   "source": [
    "model.fit(X_train, y_train, epochs = 150, batch_size = 16)"
   ]
  },
  {
   "cell_type": "code",
   "execution_count": 51,
   "metadata": {},
   "outputs": [
    {
     "name": "stdout",
     "output_type": "stream",
     "text": [
      "8/8 [==============================] - 2s 32ms/step\n"
     ]
    }
   ],
   "source": [
    "spread_test = calculate_spread(df , min_p_value_pair , const_year_test, const_year_test)\n",
    "real_stock_spread = spread_test.values\n",
    "\n",
    "dataset_total = pd.concat((spread_train, spread_test), axis = 0) # dataset_total是真實的股價spread\n",
    "inputs = dataset_total[len(dataset_total) - len(spread_test) - 60:].values # inputs是spread_train最後60天+242筆真實的股價spread\n",
    "inputs = inputs.reshape(-1,1)\n",
    "inputs = scaler.transform(inputs) # Feature Scaling\n",
    "\n",
    "X_test = []\n",
    "for i in range(60, 60 + len(spread_test)): # timesteps一樣60； 160 = 先前的60天資料 + const_year_test年的244天資料\n",
    "    X_test.append(inputs[i-60:i, 0])\n",
    "X_test = np.array(X_test)\n",
    "X_test = np.reshape(X_test, (X_test.shape[0], X_test.shape[1], 1))  # Reshape 成 3-dimension\n",
    "\n",
    "predicted_stock_spread = model.predict(X_test)\n",
    "predicted_stock_spread = scaler.inverse_transform(predicted_stock_spread)  # to get the original scale"
   ]
  },
  {
   "cell_type": "code",
   "execution_count": 52,
   "metadata": {},
   "outputs": [
    {
     "name": "stdout",
     "output_type": "stream",
     "text": [
      "Mean Squared Error: 0.41956846706258627\n",
      "Std: 0.945099413394928\n"
     ]
    },
    {
     "data": {
      "image/png": "[encoded data removed]",
      "text/plain": [
       "<Figure size 864x432 with 1 Axes>"
      ]
     },
     "metadata": {
      "needs_background": "light"
     },
     "output_type": "display_data"
    }
   ],
   "source": [
    "# Compute Mean Squared Error\n",
    "mse = mean_squared_error(real_stock_spread, predicted_stock_spread)\n",
    "print(f\"Mean Squared Error: {mse}\")\n",
    "\n",
    "mean_spread = np.mean(predicted_stock_spread)\n",
    "std_spread = np.std(predicted_stock_spread)\n",
    "threshold = 1.5 * std_spread\n",
    "print(f\"Std: {std_spread}\")\n",
    "\n",
    "# Visualising the results with MSE and threshold lines\n",
    "plt.figure(figsize=(12,6))\n",
    "plt.plot(real_stock_spread, color='red', label='Real Stock Spread')\n",
    "plt.plot(predicted_stock_spread, color='lime', label='Predicted Stock Spread')\n",
    "\n",
    "# Draw horizontal lines for the threshold\n",
    "plt.axhline(y=mean_spread + threshold, color='blue', linestyle='--', label='Upper Threshold')\n",
    "plt.axhline(y=mean_spread - threshold, color='orange', linestyle='--', label='Lower Threshold')\n",
    "\n",
    "# Draw a horizontal line for MSE\n",
    "# plt.axhline(y=mse, color='purple', linestyle='-', label=f'MSE: {mse:.4f}')\n",
    "\n",
    "plt.title('Stock Spread Prediction with MSE and Threshold Lines')\n",
    "plt.xlabel('Time')\n",
    "plt.ylabel('Stock Price Spread')\n",
    "plt.legend()\n",
    "plt.show()"
   ]
  },
  {
   "cell_type": "code",
   "execution_count": 53,
   "metadata": {},
   "outputs": [],
   "source": [
    "# Convert the arrays to DataFrames\n",
    "df_real_stock_spread_d = pd.DataFrame(real_stock_spread, columns=['Real Stock Spread'])\n",
    "df_predicted_stock_spread_d = pd.DataFrame(predicted_stock_spread, columns=['Predicted Stock Spread'])\n",
    "\n",
    "# Create DataFrames for stock codes and p-values\n",
    "df_stock_codes_d = pd.DataFrame([[min_p_value_pair[0], min_p_value_pair[1]]], columns=['Stock Code 1', 'Stock Code 2'])\n",
    "df_p_values_d = pd.DataFrame([[min_p_values[0], min_p_values[1]]], columns=['P-value 1', 'P-value 2'])\n",
    "\n",
    "# Combine the DataFrames into a single DataFrame before saving\n",
    "combined_df_d = pd.concat([df_real_stock_spread_d, df_predicted_stock_spread_d, df_stock_codes_d, df_p_values_d], axis=1)\n",
    "\n",
    "# Save the combined DataFrame to an Excel file\n",
    "combined_df_d.to_excel('defensive_stock_data_2016.xlsx', index=False)"
   ]
  },
  {
   "cell_type": "code",
   "execution_count": 54,
   "metadata": {},
   "outputs": [],
   "source": [
    "# Assuming we have the same setup as previously defined\n",
    "spreads = predicted_stock_spread  # Your spread data here\n",
    "prices_overvalued, prices_undervalued, overvalued_code, undervalued_code = get_overvalued_and_undervalued_stocks(df, predicted_stock_spread, min_p_value_pair, const_year_test)"
   ]
  },
  {
   "cell_type": "code",
   "execution_count": 55,
   "metadata": {},
   "outputs": [
    {
     "name": "stdout",
     "output_type": "stream",
     "text": [
      "Entering trade at index 28, spread [-11.738365]\n",
      "Overvalued shares: 27.700831024930746, Undervalued shares: 20.876826722338205\n",
      "Entering trade at index 29, spread [-11.817633]\n",
      "Overvalued shares: 27.93296089385475, Undervalued shares: 20.964360587002094\n",
      "Entering trade at index 30, spread [-11.7152195]\n",
      "Overvalued shares: 27.700831024930746, Undervalued shares: 21.008403361344538\n",
      "Entering trade at index 31, spread [-11.359848]\n",
      "Overvalued shares: 28.050490883590463, Undervalued shares: 22.026431718061676\n",
      "Exiting trade at index 32, spread [-10.014799]\n",
      "Profit from trade: 1837.7044259164825\n",
      "----------------END----------------\n",
      "Entering trade at index 37, spread [-11.501394]\n",
      "Overvalued shares: 27.739251040221916, Undervalued shares: 21.73913043478261\n",
      "Exiting trade at index 38, spread [-10.3644905]\n",
      "Profit from trade: 433.74754763914865\n",
      "----------------END----------------\n",
      "Entering trade at index 65, spread [-7.989636]\n",
      "Overvalued shares: 27.210884353741495, Undervalued shares: 22.62443438914027\n",
      "Entering trade at index 66, spread [-7.781821]\n",
      "Overvalued shares: 27.51031636863824, Undervalued shares: 22.62443438914027\n",
      "Entering trade at index 67, spread [-8.079694]\n",
      "Overvalued shares: 27.397260273972602, Undervalued shares: 22.62443438914027\n",
      "Entering trade at index 68, spread [-7.9642324]\n",
      "Overvalued shares: 27.285129604365622, Undervalued shares: 22.675736961451246\n",
      "Entering trade at index 69, spread [-7.7075267]\n",
      "Overvalued shares: 27.027027027027028, Undervalued shares: 22.675736961451246\n",
      "Entering trade at index 70, spread [-7.3744907]\n",
      "Overvalued shares: 27.397260273972602, Undervalued shares: 22.779043280182233\n",
      "Entering trade at index 71, spread [-7.5868087]\n",
      "Overvalued shares: 27.17391304347826, Undervalued shares: 22.779043280182233\n",
      "Entering trade at index 72, spread [-7.3643265]\n",
      "Overvalued shares: 27.247956403269754, Undervalued shares: 22.727272727272727\n",
      "Entering trade at index 73, spread [-7.5046253]\n",
      "Overvalued shares: 27.247956403269754, Undervalued shares: 22.675736961451246\n",
      "Entering trade at index 74, spread [-7.601221]\n",
      "Overvalued shares: 27.17391304347826, Undervalued shares: 22.727272727272727\n",
      "Entering trade at index 75, spread [-7.4387283]\n",
      "Overvalued shares: 27.210884353741495, Undervalued shares: 22.675736961451246\n",
      "Entering trade at index 76, spread [-7.549326]\n",
      "Overvalued shares: 27.247956403269754, Undervalued shares: 22.727272727272727\n",
      "Entering trade at index 77, spread [-7.5268693]\n",
      "Overvalued shares: 27.285129604365622, Undervalued shares: 21.978021978021978\n",
      "Exiting trade at index 78, spread [-8.869024]\n",
      "Profit from trade: 4884.491651167829\n",
      "----------------END----------------\n",
      "Entering trade at index 121, spread [-8.001994]\n",
      "Overvalued shares: 26.990553306342782, Undervalued shares: 22.07505518763797\n",
      "Exiting trade at index 122, spread [-8.40559]\n",
      "Profit from trade: 385.37028961221193\n",
      "----------------END----------------\n",
      "Entering trade at index 172, spread [-11.205845]\n",
      "Overvalued shares: 27.100271002710027, Undervalued shares: 20.964360587002094\n",
      "Exiting trade at index 173, spread [-10.90628]\n",
      "Profit from trade: 434.6458908574936\n",
      "----------------END----------------\n",
      "Entering trade at index 174, spread [-11.069407]\n",
      "Overvalued shares: 27.3224043715847, Undervalued shares: 20.986358866736623\n",
      "Entering trade at index 175, spread [-11.123561]\n",
      "Overvalued shares: 27.3224043715847, Undervalued shares: 21.008403361344538\n",
      "Entering trade at index 176, spread [-11.105564]\n",
      "Overvalued shares: 27.3224043715847, Undervalued shares: 21.62162162162162\n",
      "Exiting trade at index 177, spread [-10.01158]\n",
      "Profit from trade: 1306.367626811538\n",
      "----------------END----------------\n",
      "Cumulative profit: 9282.327432004704\n",
      "Total capital at risk: 29000\n",
      "Return rate: 9.282327432004704%\n"
     ]
    }
   ],
   "source": [
    "mean_spread = np.mean(spreads)\n",
    "std_spread = np.std(spreads)\n",
    "threshold = 1.5 * std_spread\n",
    "\n",
    "# Track positions and other metrics\n",
    "positions = []\n",
    "profits = []\n",
    "equity_curve = []\n",
    "nominal_capital = 1000  # Nominal capital at risk per trade\n",
    "initial_capital = 100000\n",
    "total_capital_invested = 0\n",
    "\n",
    "total_shares_overvalued = 0\n",
    "total_shares_undervalued = 0\n",
    "\n",
    "for i, spread in enumerate(spreads):\n",
    "    if (spread > mean_spread + threshold) or (spread < mean_spread - threshold):\n",
    "        if i != len(spreads) - 1:\n",
    "            # prices_overvalued, prices_undervalued, overvalued_code, undervalued_code = get_overvalued_and_undervalued_stocks(df, predicted_stock_spread, min_p_value_pair, const_year_test, i)\n",
    "            # Enter trade\n",
    "            num_shares_overvalued = nominal_capital / prices_overvalued[i] # 1 / prices_overvalued\n",
    "            num_shares_undervalued = nominal_capital / prices_undervalued[i] # 1 / prices_undervalued\n",
    "            if spread < 0:\n",
    "                num_shares_overvalued = nominal_capital / prices_undervalued[i]\n",
    "                num_shares_undervalued = nominal_capital / prices_overvalued[i]\n",
    "            # debug\n",
    "            print(f\"Entering trade at index {i}, spread {spread}\")\n",
    "            print(f\"Overvalued shares: {num_shares_overvalued}, Undervalued shares: {num_shares_undervalued}\")\n",
    "            total_shares_overvalued += num_shares_overvalued\n",
    "            total_shares_undervalued += num_shares_undervalued\n",
    "            total_capital_invested += (nominal_capital * 1.001425)\n",
    "            positions.append(i)  # Store the index of the trading day\n",
    "            check_enterOrNot = True\n",
    "    if ((mean_spread - threshold <= spread <= mean_spread + threshold) and positions and check_enterOrNot == True) or (i == len(spreads) - 1 and positions and check_enterOrNot == True):\n",
    "        # Exit trade\n",
    "        exit_price_overvalued = prices_overvalued.iloc[-1]  # Last day price\n",
    "        exit_price_undervalued = prices_undervalued.iloc[-1]  # Last day price\n",
    "        pi = (total_shares_overvalued * exit_price_overvalued) - (total_shares_undervalued * exit_price_undervalued)\n",
    "        pi = pi * (1 - 0.001425)\n",
    "        profits.append(pi)\n",
    "        positions.append(i)\n",
    "        total_shares_overvalued = 0\n",
    "        total_shares_undervalued = 0\n",
    "        # debug\n",
    "        print(f\"Exiting trade at index {i}, spread {spread}\")\n",
    "        print(f\"Profit from trade: {pi}\")\n",
    "        print(\"----------------END----------------\")\n",
    "        check_enterOrNot = False\n",
    "\n",
    "        if i == len(spreads) - 1:  # If it's the last day, calculate the final equity curve point\n",
    "            equity_curve.append(sum(profits) - total_capital_invested)\n",
    "\n",
    "\n",
    "cumulative_profit = sum(profits)\n",
    "total_trades = len(positions) # Total number of completed trades\n",
    "total_capital_at_risk = total_trades * nominal_capital\n",
    "return_rate = cumulative_profit / initial_capital if initial_capital != 0 else 0\n",
    "\n",
    "print(f\"Cumulative profit: {cumulative_profit}\")\n",
    "print(f\"Total capital at risk: {total_capital_at_risk}\")\n",
    "print(f\"Return rate: {return_rate * 100}%\")"
   ]
  }
 ],
 "metadata": {
  "kernelspec": {
   "display_name": "Python 3.9.7 64-bit",
   "language": "python",
   "name": "python3"
  },
  "language_info": {
   "codemirror_mode": {
    "name": "ipython",
    "version": 3
   },
   "file_extension": ".py",
   "mimetype": "text/x-python",
   "name": "python",
   "nbconvert_exporter": "python",
   "pygments_lexer": "ipython3",
   "version": "3.9.7"
  },
  "orig_nbformat": 4,
  "vscode": {
   "interpreter": {
    "hash": "aee8b7b246df8f9039afb4144a1f6fd8d2ca17a180786b69acc140d282b71a49"
   }
  }
 },
 "nbformat": 4,
 "nbformat_minor": 2
}
